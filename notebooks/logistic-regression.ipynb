{
 "cells": [
  {
   "cell_type": "code",
   "execution_count": 1,
   "id": "4338f203",
   "metadata": {},
   "outputs": [],
   "source": [
    "import numpy as np\n",
    "from sklearn.datasets import load_breast_cancer"
   ]
  },
  {
   "cell_type": "code",
   "execution_count": 9,
   "id": "8c54d594",
   "metadata": {},
   "outputs": [],
   "source": [
    "df = load_breast_cancer()\n",
    "\n",
    "X, y = df.data, df.target.reshape(-1, 1)"
   ]
  },
  {
   "cell_type": "code",
   "execution_count": 21,
   "id": "3d6fbbd7",
   "metadata": {},
   "outputs": [],
   "source": [
    "X_mean = X.mean(axis=0)\n",
    "X_std = X.std(axis=0)\n",
    "X_norm = (X - X_mean) / X_std"
   ]
  },
  {
   "cell_type": "code",
   "execution_count": 31,
   "id": "62653574",
   "metadata": {},
   "outputs": [],
   "source": [
    "alpha = 0.1\n",
    "w = np.zeros((X.shape[1], 1))\n",
    "b = np.zeros((1, 1))\n",
    "\n",
    "for _ in range(10):\n",
    "    z = X_norm @ w + b\n",
    "    y_pred = 1 / (1 + np.exp(-z))\n",
    "    dw = (X_norm.T @ (y - y_pred)) / X.shape[0]\n",
    "    db = np.sum(y - y_pred) / X.shape[0]\n",
    "    w += alpha * dw\n",
    "    b += alpha * db\n",
    "\n",
    "y_pred = np.where(y_pred > 0.5, 1, 0)"
   ]
  },
  {
   "cell_type": "code",
   "execution_count": 32,
   "id": "d62621fe",
   "metadata": {},
   "outputs": [
    {
     "data": {
      "text/plain": [
       "0.9621318373071529"
      ]
     },
     "execution_count": 32,
     "metadata": {},
     "output_type": "execute_result"
    }
   ],
   "source": [
    "from sklearn.metrics import f1_score\n",
    "\n",
    "f1_score(y, y_pred)"
   ]
  }
 ],
 "metadata": {
  "kernelspec": {
   "display_name": "llm-from-scratch",
   "language": "python",
   "name": "python3"
  },
  "language_info": {
   "codemirror_mode": {
    "name": "ipython",
    "version": 3
   },
   "file_extension": ".py",
   "mimetype": "text/x-python",
   "name": "python",
   "nbconvert_exporter": "python",
   "pygments_lexer": "ipython3",
   "version": "3.13.7"
  }
 },
 "nbformat": 4,
 "nbformat_minor": 5
}
